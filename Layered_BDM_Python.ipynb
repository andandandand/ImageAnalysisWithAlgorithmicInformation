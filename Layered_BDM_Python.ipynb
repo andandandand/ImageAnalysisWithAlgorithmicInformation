{
  "nbformat": 4,
  "nbformat_minor": 0,
  "metadata": {
    "colab": {
      "name": "Layered BDM - Python",
      "version": "0.3.2",
      "provenance": [],
      "collapsed_sections": []
    },
    "kernelspec": {
      "name": "python3",
      "display_name": "Python 3"
    }
  },
  "cells": [
    {
      "cell_type": "code",
      "metadata": {
        "id": "N2O__gdBvHo-",
        "colab_type": "code",
        "colab": {}
      },
      "source": [
        "import pandas as pd\n",
        "import skimage.io as io\n",
        "from PIL import Image \n",
        "import warnings\n",
        "warnings.filterwarnings(action='ignore')\n"
      ],
      "execution_count": 0,
      "outputs": []
    },
    {
      "cell_type": "code",
      "metadata": {
        "id": "HY5i_mjqxrIx",
        "colab_type": "code",
        "colab": {}
      },
      "source": [
        "data_url = 'https://raw.githubusercontent.com/andandandand/ImageAnalysisWithAlgorithmicInformation/master/fourByFourCTMs.csv'\n",
        "ctms_df = pd.read_csv(data_url, \n",
        "                      header=None, \n",
        "                      names=['block', 'ctm_value'],\n",
        "                      dtype={'block': object})\n",
        "\n",
        "ctms_dict = dict(zip(ctms_df['block'].values, ctms_df['ctm_value'].values))\n"
      ],
      "execution_count": 0,
      "outputs": []
    },
    {
      "cell_type": "code",
      "metadata": {
        "id": "3PR_XibwvO4_",
        "colab_type": "code",
        "outputId": "4dec0c68-3cfc-418a-ca76-097c8985dd00",
        "colab": {
          "base_uri": "https://localhost:8080/",
          "height": 274
        }
      },
      "source": [
        "imag_array = io.imread('https://github.com/andandandand/ImageAnalysisWithAlgorithmicInformation/blob/master/images/t2BrainSlice.png?raw=true')\n",
        "Image.fromarray(imag_array)"
      ],
      "execution_count": 158,
      "outputs": [
        {
          "output_type": "execute_result",
          "data": {
            "image/png": "[encoded data removed]",
            "text/plain": [
              "<PIL.Image.Image image mode=L size=256x256 at 0x7FCD3B74EDA0>"
            ]
          },
          "metadata": {
            "tags": []
          },
          "execution_count": 158
        }
      ]
    },
    {
      "cell_type": "code",
      "metadata": {
        "id": "c-9YIA68ALOr",
        "colab_type": "code",
        "outputId": "91124400-b8ce-44f0-af10-d3343e83bc85",
        "colab": {
          "base_uri": "https://localhost:8080/",
          "height": 35
        }
      },
      "source": [
        "imag_array.shape[0]"
      ],
      "execution_count": 159,
      "outputs": [
        {
          "output_type": "execute_result",
          "data": {
            "text/plain": [
              "256"
            ]
          },
          "metadata": {
            "tags": []
          },
          "execution_count": 159
        }
      ]
    },
    {
      "cell_type": "code",
      "metadata": {
        "id": "yEGaFu18_-7l",
        "colab_type": "code",
        "outputId": "1e2c1f61-bdf3-4d5c-e901-a1172280c9e1",
        "colab": {
          "base_uri": "https://localhost:8080/",
          "height": 163
        }
      },
      "source": [
        "mini_array = imag_array[128:128+8, 128:128+8]\n",
        "mini_array"
      ],
      "execution_count": 160,
      "outputs": [
        {
          "output_type": "execute_result",
          "data": {
            "text/plain": [
              "Array([[ 77,  46,  58,  58,  74,  54,  78,  69],\n",
              "       [ 93,  53,  66,  71,  56,  56,  62,  64],\n",
              "       [ 91,  67,  68,  55,  57,  67,  75,  62],\n",
              "       [136,  71,  64,  64,  66,  63,  65,  80],\n",
              "       [146,  82,  63,  61,  57,  79,  48,  61],\n",
              "       [140, 102,  67,  57,  65,  52,  56,  43],\n",
              "       [160, 103,  54,  50,  64,  70,  65,  50],\n",
              "       [166,  81,  56,  56,  54,  63,  62,  49]], dtype=uint8)"
            ]
          },
          "metadata": {
            "tags": []
          },
          "execution_count": 160
        }
      ]
    },
    {
      "cell_type": "code",
      "metadata": {
        "id": "hiRdke_SGtok",
        "colab_type": "code",
        "colab": {}
      },
      "source": [
        "from skimage.util.shape import view_as_windows\n",
        "\n",
        "def layered_bdm(imag_array):\n",
        "  raw_blocks       = view_as_windows(imag_array, (4, 4), step = 1)\n",
        "  i, j, _, _       = raw_blocks.shape\n",
        "  flattened_blocks = [raw_blocks[x][y].flatten() for x in range(i) for y in range(j)]\n",
        "\n",
        "  binary_blocks = []\n",
        "  for block in flattened_blocks:\n",
        "    for thresh in range(255):\n",
        "      bin_array = list((block == thresh).astype(np.uint8))    \n",
        "      binary_blocks.append(''.join(map(str, bin_array)))\n",
        "\n",
        "  unique_blocks, block_counts = np.unique(binary_blocks, return_counts=True)\n",
        "\n",
        "  return(np.sum([ctms_dict[block] for block in unique_blocks]) + np.sum(np.log2(block_counts)))\n",
        "  "
      ],
      "execution_count": 0,
      "outputs": []
    },
    {
      "cell_type": "code",
      "metadata": {
        "id": "pC59_xa2IVGn",
        "colab_type": "code",
        "outputId": "da74f28a-3386-407b-94aa-aa8f13423871",
        "colab": {
          "base_uri": "https://localhost:8080/",
          "height": 35
        }
      },
      "source": [
        "layered_bdm(mini_array)"
      ],
      "execution_count": 162,
      "outputs": [
        {
          "output_type": "execute_result",
          "data": {
            "text/plain": [
              "1817.8776670932257"
            ]
          },
          "metadata": {
            "tags": []
          },
          "execution_count": 162
        }
      ]
    }
  ]
}